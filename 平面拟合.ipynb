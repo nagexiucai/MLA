{
 "cells": [
  {
   "cell_type": "markdown",
   "metadata": {},
   "source": [
    "# 平面拟合\n",
    "\n",
    "通过这样一个例示对TF有个感性的认识。\n",
    "\n",
    "制造一些三维数据，用一个平面拟合。"
   ]
  },
  {
   "cell_type": "code",
   "execution_count": 3,
   "metadata": {
    "collapsed": false
   },
   "outputs": [
    {
     "name": "stdout",
     "output_type": "stream",
     "text": [
      "0 [[ 0.5692997  -0.31577221]] [ 0.6241082]\n",
      "20 [[ 0.17509216  0.06724643]] [ 0.32608867]\n",
      "40 [[ 0.11566523  0.17150243]] [ 0.30584067]\n",
      "60 [[ 0.10326338  0.19387999]] [ 0.30130765]\n",
      "80 [[ 0.10067876  0.19868511]] [ 0.30029279]\n",
      "100 [[ 0.10014094  0.19971737]] [ 0.30006558]\n",
      "120 [[ 0.10002922  0.19993922]] [ 0.30001467]\n",
      "140 [[ 0.10000603  0.19998692]] [ 0.30000329]\n",
      "160 [[ 0.10000125  0.19999719]] [ 0.30000073]\n",
      "180 [[ 0.10000026  0.19999941]] [ 0.30000016]\n",
      "200 [[ 0.10000005  0.19999987]] [ 0.30000004]\n",
      "[[ 0.10000005  0.19999987]] [ 0.30000004]\n"
     ]
    }
   ],
   "source": [
    "import tensorflow as tf\n",
    "import numpy as np\n",
    "\n",
    "# 生成共一百点的假数据\n",
    "x_data = np.float32(np.random.rand(2, 100)) # 两行一百列\n",
    "y_data = np.dot([0.100, 0.200], x_data) + 0.300 # 点积、偏置、一百列\n",
    "\n",
    "# 构造线性模型\n",
    "b = tf.Variable(tf.zeros([1])) # 一行一列\n",
    "W = tf.Variable(tf.random_uniform([1, 2], -1.0, 1.0)) # 均匀随机、一行两列\n",
    "y = tf.matmul(W, x_data) + b # 乘积、偏置、一行两列\n",
    "\n",
    "# 最小化方差\n",
    "loss = tf.reduce_mean(tf.square(y - y_data))\n",
    "optimizer = tf.train.GradientDescentOptimizer(0.5)\n",
    "train = optimizer.minimize(loss)\n",
    "\n",
    "# 初始化变量\n",
    "init = tf.initialize_all_variables()\n",
    "\n",
    "# 启动图\n",
    "sess = tf.Session()\n",
    "sess.run(init)\n",
    "\n",
    "# 拟合平面\n",
    "for step in range(201):\n",
    "    sess.run(train)\n",
    "    if step%20 == 0:\n",
    "        print(step, sess.run(W), sess.run(b))\n",
    "\n",
    "# 最佳拟合结果\n",
    "print(sess.run(W), sess.run(b))"
   ]
  },
  {
   "cell_type": "markdown",
   "metadata": {},
   "source": [
    "可以看到通过**梯度下降**训练的**线性模型**在经历两百次**迭代**后已经相当**逼近**理论值。"
   ]
  }
 ],
 "metadata": {
  "kernelspec": {
   "display_name": "Python 3",
   "language": "python",
   "name": "python3"
  },
  "language_info": {
   "codemirror_mode": {
    "name": "ipython",
    "version": 3
   },
   "file_extension": ".py",
   "mimetype": "text/x-python",
   "name": "python",
   "nbconvert_exporter": "python",
   "pygments_lexer": "ipython3",
   "version": "3.5.1"
  }
 },
 "nbformat": 4,
 "nbformat_minor": 1
}
