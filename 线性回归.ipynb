{
 "cells": [
  {
   "cell_type": "markdown",
   "metadata": {},
   "source": [
    "# 线性回归\n",
    "\n",
    "该算法是想给**一个依赖标量的变量y**和**一个或多个独立变量x**之间的关系建模。\n",
    "\n",
    "给定：\n",
    "\n",
    "- 数据集合{(x1,y1),...,(xm,ym)}\n",
    "- 每个xi都是d维向量(x1,...,xd)\n",
    "- 每个yi都是一个标量目标变量\n",
    "\n",
    "线性回归模型可以用非常简单的神经网络表达：\n",
    "\n",
    "- 拥有一个实值权重向量(w1,...,wd)\n",
    "- 拥有一个实值偏置b\n",
    "- 采用恒等函数作为激活函数\n",
    "\n",
    "一个线性回归模型可以用：\n",
    "\n",
    "- 梯度下降\n",
    "\n",
    "或\n",
    "\n",
    "- 正规方程（封闭解）（ $w=(X^TX)^{-1}X^Ty )\n",
    "\n",
    "  - 这里的 $X 矩阵 $(m,n_{features}) 保有全部训练样本。\n",
    "  - 正规方程要求计算 $X^TX 的逆，计算复杂度介于 $O(n_{features}^{2.4}) 和 $O(n_{features}^3) 之间（取决于具体实现），因此，如果练集合中的特性数量庞大，正规方程会很慢。\n"
   ]
  },
  {
   "cell_type": "code",
   "execution_count": null,
   "metadata": {
    "collapsed": true
   },
   "outputs": [],
   "source": []
  },
  {
   "cell_type": "code",
   "execution_count": null,
   "metadata": {
    "collapsed": true
   },
   "outputs": [],
   "source": []
  },
  {
   "cell_type": "code",
   "execution_count": null,
   "metadata": {
    "collapsed": true
   },
   "outputs": [],
   "source": []
  }
 ],
 "metadata": {
  "kernelspec": {
   "display_name": "Python 2",
   "language": "python",
   "name": "python2"
  },
  "language_info": {
   "codemirror_mode": {
    "name": "ipython",
    "version": 2
   },
   "file_extension": ".py",
   "mimetype": "text/x-python",
   "name": "python",
   "nbconvert_exporter": "python",
   "pygments_lexer": "ipython2",
   "version": "2.7.13"
  }
 },
 "nbformat": 4,
 "nbformat_minor": 1
}
