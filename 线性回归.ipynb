{
 "cells": [
  {
   "cell_type": "markdown",
   "metadata": {},
   "source": [
    "# 线性回归\n",
    "\n",
    "该算法是想给**一个依赖标量的变量y**和**一个或多个独立变量x**之间的关系建模。\n",
    "\n",
    "给定：\n",
    "\n",
    "- 数据集合 $\\{(x_1,y_1),\\ldots,(x_m,y_m)\\}$\n",
    "- 每个 $x_i$ 都是 $d$ 维向量 $(x_1,\\ldots,x_d)$\n",
    "- 每个 $y_i$ 都是一个标量目标变量\n",
    "\n",
    "线性回归模型可以用非常简单的神经网络表达：\n",
    "\n",
    "- 拥有一个实值权重向量 $(w_1,\\ldots,w_d)$\n",
    "- 拥有一个实值偏置 $b$\n",
    "- 采用恒等函数作为激活函数\n",
    "\n",
    "一个线性回归模型可以用：\n",
    "\n",
    "- 梯度下降\n",
    "\n",
    "或\n",
    "\n",
    "- 正规方程（封闭解）（ $w=(X^TX)^{-1}X^Ty$ ）\n",
    "\n",
    "  - 这里的 $X$ 矩阵 $(m,n_{features})$ 保有全部训练样本。\n",
    "  - 正规方程要求计算 $X^TX$ 的逆，计算复杂度介于 $O(n_{features}^{2.4})$ 和 $O(n_{features}^3)$ 之间（取决于具体实现），因此，如果练集合中的特性数量庞大，正规方程会很慢。\n",
    "\n",
    "---\n",
    "\n",
    "训练步骤：\n",
    "\n",
    "    一开始模型参数是初始化了的，之后重复指定的训练迭代次数直到参数收敛。\n",
    "\n",
    "- 第一步\n",
    "\n",
    "    把权重向量和偏置初始化为零（或小的随机数）\n",
    "    \n",
    "    或\n",
    "    \n",
    "    通过正规方程直接计算出参数值\n",
    "\n",
    "- 第二步\n",
    "\n",
    "    仅当采用梯度下降方法训练时需要\n",
    "    \n",
    "    计算一个输入特征和权重的线性组合，采用向量化和广播所有训练样本可一次性搞定： $\\hat y=X \\cdot w + b$\n",
    "    \n",
    "    这里的 $X$ 是矩阵 $(m,\\cdots,m_{features})$ 保有全部训练样本，而 $\\cdot$ 表示“点积”\n",
    "\n",
    "- 第三步\n",
    "\n",
    "    仅当采用梯度下降方法训练时需要\n",
    "    \n",
    "    计算训练集合的成本（均方差）： $J(w,b)=\\frac{1}{m} \\sum_{i=1}^m \\Big(\\hat {y}^{(i)} - y^{(i)} \\Big)^2)$\n",
    "\n",
    "- 第四步\n",
    "\n",
    "    仅当采用梯度下降方法训练时需要\n",
    "    \n",
    "    计算成本函数（亦称损失函数）对于每个参数的偏导数： $$\\frac{\\partial J}{\\partial w_j}=\\frac{2}{m} \\sum_{i=1}^m \\Big(\\hat {y}^{(i)} - y^{(i)} \\Big)x_j^{(i)}$$ $$\\frac{\\partial J}{\\partial b}=\\frac{2}{m} \\sum_{i=1}^m \\Big(\\hat {y}^{(i)} - y^{(i)} \\Big)$$\n",
    "    \n",
    "    梯度包括所有偏导数随后可这样计算： $$\\nabla_wJ=\\frac{2}{m}X^T \\cdot \\Big(\\hat y - y \\Big)$$ $$\\nabla_bJ=\\frac{2}{m} \\Big(\\hat y - y \\Big)$$\n",
    "\n",
    "- 第五步\n",
    "\n",
    "    仅当采用梯度下降方法训练时需要\n",
    "    \n",
    "    更新权重向量和偏置： $$w=w - \\eta \\nabla_wJ$$ $$b=b - \\eta \\nabla_bJ$$\n",
    "    \n",
    "    这里 $\\eta$ 即学习率"
   ]
  },
  {
   "cell_type": "code",
   "execution_count": 2,
   "metadata": {
    "collapsed": true
   },
   "outputs": [],
   "source": [
    "import numpy as np\n",
    "import matplotlib.pyplot as plt\n",
    "from sklearn.model_selection import train_test_split\n",
    "\n",
    "np.random.seed(123)"
   ]
  },
  {
   "cell_type": "markdown",
   "metadata": {
    "collapsed": true
   },
   "source": [
    "## 数据集合"
   ]
  },
  {
   "cell_type": "code",
   "execution_count": 3,
   "metadata": {
    "collapsed": false
   },
   "outputs": [
    {
     "data": {
      "image/png": "[encoded data removed]",
      "text/plain": [
       "<matplotlib.figure.Figure at 0x1c99f2b0>"
      ]
     },
     "metadata": {},
     "output_type": "display_data"
    }
   ],
   "source": [
    "# 采用简单训练集合\n",
    "X = 2 * np.random.rand(500, 1)\n",
    "y = 5 + 3 * X + np.random.randn(500, 1)\n",
    "\n",
    "fig = plt.figure(figsize=(8,6))\n",
    "plt.scatter(X, y)\n",
    "plt.title(\"Dataset\")\n",
    "plt.xlabel(\"First feature\")\n",
    "plt.ylabel(\"Second feature\")\n",
    "plt.show()"
   ]
  },
  {
   "cell_type": "code",
   "execution_count": 4,
   "metadata": {
    "collapsed": false
   },
   "outputs": [
    {
     "name": "stdout",
     "output_type": "stream",
     "text": [
      "Shape X_train: (375L, 1L)\n",
      "Shape y_train: (375L, 1L)\n",
      "Shape X_test: (125L, 1L)\n",
      "Shape y_test: (125L, 1L)\n"
     ]
    }
   ],
   "source": [
    "# 将该数据集合分成训练结合和测试集合\n",
    "X_train, X_test, y_train, y_test = train_test_split(X, y)\n",
    "\n",
    "print \"Shape X_train: {0}\".format(X_train.shape)\n",
    "print \"Shape y_train: {0}\".format(y_train.shape)\n",
    "print \"Shape X_test: {0}\".format(X_test.shape)\n",
    "print \"Shape y_test: {0}\".format(y_test.shape)"
   ]
  },
  {
   "cell_type": "markdown",
   "metadata": {},
   "source": [
    "## 线性回归类\n",
    "\n",
    "**PY2 VS PY3**\n",
    "\n",
    "- 整数除法：PY2会默认丢弃小数部分取整；PY3会自动转为浮点数除法。"
   ]
  },
  {
   "cell_type": "code",
   "execution_count": 13,
   "metadata": {
    "collapsed": false
   },
   "outputs": [],
   "source": [
    "class LinearRegression:\n",
    "    def __init__(self): pass\n",
    "    def train_gradient_descent(self, X, y, learning_rate=0.01, n_iters=100):\n",
    "        '''采用梯度下降方法训练线性回归模型'''\n",
    "        # 第一步：初始化参数\n",
    "        n_samples, n_features = X.shape\n",
    "        self.weights = np.zeros(shape=(n_features,1))\n",
    "        self.bias = 0\n",
    "        costs = []\n",
    "        \n",
    "        for i in xrange(n_iters):\n",
    "            # 第二步：计算一个输入特征和权重的线性组合\n",
    "            y_predict = np.dot(X, self.weights) + self.bias\n",
    "            \n",
    "            # 第三步：计算训练集合的成本\n",
    "            cost = (1.0 / n_samples) * np.sum((y_predict - y)**2)\n",
    "            costs.append(cost)\n",
    "            \n",
    "            if i%100 == 0:\n",
    "                print \"Cost at iteration {i} is {cost}\".format(i=i, cost=cost)\n",
    "            \n",
    "            # 第四步：计算梯度\n",
    "            dJ_dw = (2.0 / n_samples) * np.dot(X.T, (y_predict - y))\n",
    "            dJ_db = (2.0 / n_samples) * np.sum((y_predict - y))\n",
    "            \n",
    "            # 第五步：更新参数\n",
    "            self.weights = self.weights - learning_rate * dJ_dw\n",
    "            self.bias = self.bias - learning_rate * dJ_db\n",
    "            \n",
    "        return self.weights, self.bias, costs\n",
    "    def train_normal_equation(self, X, y):\n",
    "        '''采用正规函数方法训练线性回归模型'''\n",
    "        self.weights = np.dot(np.dot(np.linalg.inv(np.dot(X.T, X)), X.T), y)\n",
    "        self.bias = 0\n",
    "        \n",
    "        return self.weights, self.bias\n",
    "    def predict(self, X):\n",
    "        return np.dot(X, self.weights) + self.bias"
   ]
  },
  {
   "cell_type": "markdown",
   "metadata": {},
   "source": [
    "### 采用梯度下降方法训练"
   ]
  },
  {
   "cell_type": "code",
   "execution_count": 14,
   "metadata": {
    "collapsed": false
   },
   "outputs": [
    {
     "name": "stdout",
     "output_type": "stream",
     "text": [
      "Cost at iteration 0 is 66.45256981\n",
      "Cost at iteration 100 is 2.20843461461\n",
      "Cost at iteration 200 is 1.27978128542\n",
      "Cost at iteration 300 is 1.20421891954\n",
      "Cost at iteration 400 is 1.15648678166\n",
      "Cost at iteration 500 is 1.12139104139\n"
     ]
    },
    {
     "data": {
      "image/png": "[encoded data removed]",
      "text/plain": [
       "<matplotlib.figure.Figure at 0x1cfd5630>"
      ]
     },
     "metadata": {},
     "output_type": "display_data"
    }
   ],
   "source": [
    "regressor = LinearRegression()\n",
    "n_iters = 600\n",
    "w_trained, b_trained, costs = regressor.train_gradient_descent(X_train, y_train, learning_rate=0.005, n_iters=n_iters)\n",
    "\n",
    "fig = plt.figure(figsize=(8,6))\n",
    "plt.plot(np.arange(n_iters), costs)\n",
    "plt.title(\"Develepment of cost during training\")\n",
    "plt.xlabel(\"Number of iterations\")\n",
    "plt.ylabel(\"Cost\")\n",
    "plt.show()"
   ]
  },
  {
   "cell_type": "markdown",
   "metadata": {},
   "source": [
    "### 测试梯度下降模型"
   ]
  },
  {
   "cell_type": "code",
   "execution_count": 15,
   "metadata": {
    "collapsed": false
   },
   "outputs": [
    {
     "ename": "NameError",
     "evalue": "name 'n_samples_test' is not defined",
     "output_type": "error",
     "traceback": [
      "\u001b[0;31m---------------------------------------------------------------------------\u001b[0m",
      "\u001b[0;31mNameError\u001b[0m                                 Traceback (most recent call last)",
      "\u001b[0;32m<ipython-input-15-fc62085c3bdb>\u001b[0m in \u001b[0;36m<module>\u001b[0;34m()\u001b[0m\n\u001b[1;32m      6\u001b[0m \u001b[1;33m\u001b[0m\u001b[0m\n\u001b[1;32m      7\u001b[0m \u001b[0merror_train\u001b[0m \u001b[1;33m=\u001b[0m \u001b[1;33m(\u001b[0m\u001b[1;36m1.0\u001b[0m \u001b[1;33m/\u001b[0m \u001b[0mn_samples\u001b[0m\u001b[1;33m)\u001b[0m \u001b[1;33m*\u001b[0m \u001b[0mnp\u001b[0m\u001b[1;33m.\u001b[0m\u001b[0msum\u001b[0m\u001b[1;33m(\u001b[0m\u001b[1;33m(\u001b[0m\u001b[0my_p_train\u001b[0m \u001b[1;33m-\u001b[0m \u001b[0my_train\u001b[0m\u001b[1;33m)\u001b[0m\u001b[1;33m**\u001b[0m\u001b[1;36m2\u001b[0m\u001b[1;33m)\u001b[0m\u001b[1;33m\u001b[0m\u001b[0m\n\u001b[0;32m----> 8\u001b[0;31m \u001b[0merror_test\u001b[0m \u001b[1;33m=\u001b[0m \u001b[1;33m(\u001b[0m\u001b[1;36m1.0\u001b[0m \u001b[1;33m/\u001b[0m \u001b[0mn_samples_test\u001b[0m\u001b[1;33m)\u001b[0m \u001b[1;33m*\u001b[0m \u001b[0mnp\u001b[0m\u001b[1;33m.\u001b[0m\u001b[0msum\u001b[0m\u001b[1;33m(\u001b[0m\u001b[1;33m(\u001b[0m\u001b[0my_p_test\u001b[0m \u001b[1;33m-\u001b[0m \u001b[0my_test\u001b[0m\u001b[1;33m)\u001b[0m\u001b[1;33m**\u001b[0m\u001b[1;36m2\u001b[0m\u001b[1;33m)\u001b[0m\u001b[1;33m\u001b[0m\u001b[0m\n\u001b[0m\u001b[1;32m      9\u001b[0m \u001b[1;33m\u001b[0m\u001b[0m\n\u001b[1;32m     10\u001b[0m \u001b[1;32mprint\u001b[0m \u001b[1;34m\"Error on training set: {0}\"\u001b[0m\u001b[1;33m.\u001b[0m\u001b[0mformat\u001b[0m\u001b[1;33m(\u001b[0m\u001b[0mnp\u001b[0m\u001b[1;33m.\u001b[0m\u001b[0mround\u001b[0m\u001b[1;33m(\u001b[0m\u001b[0merror_train\u001b[0m\u001b[1;33m,\u001b[0m \u001b[1;36m4\u001b[0m\u001b[1;33m)\u001b[0m\u001b[1;33m)\u001b[0m\u001b[1;33m\u001b[0m\u001b[0m\n",
      "\u001b[0;31mNameError\u001b[0m: name 'n_samples_test' is not defined"
     ]
    }
   ],
   "source": [
    "n_samples, _ = X_train.shape\n",
    "n_samples_test, _ = X_test.shape\n",
    "\n",
    "y_p_train = regressor.predict(X_train)\n",
    "y_p_test = regressor.predict(X_test)\n",
    "\n",
    "error_train = (1.0 / n_samples) * np.sum((y_p_train - y_train)**2)\n",
    "error_test = (1.0 / n_samples_test) * np.sum((y_p_test - y_test)**2)\n",
    "\n",
    "print \"Error on training set: {0}\".format(np.round(error_train, 4))\n",
    "print \"Error on test set: {0}\".format(error_test)"
   ]
  }
 ],
 "metadata": {
  "kernelspec": {
   "display_name": "Python 2",
   "language": "python",
   "name": "python2"
  },
  "language_info": {
   "codemirror_mode": {
    "name": "ipython",
    "version": 2
   },
   "file_extension": ".py",
   "mimetype": "text/x-python",
   "name": "python",
   "nbconvert_exporter": "python",
   "pygments_lexer": "ipython2",
   "version": "2.7.13"
  }
 },
 "nbformat": 4,
 "nbformat_minor": 1
}
