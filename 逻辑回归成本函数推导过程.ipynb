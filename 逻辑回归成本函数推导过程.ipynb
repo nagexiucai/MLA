{
 "cells": [
  {
   "cell_type": "markdown",
   "metadata": {},
   "source": [
    "# 逻辑回归成本函数推导过程\n",
    "\n",
    "the superscript(i) denotes individual measurements or training \"examples\".\n",
    "\n",
    "\\begin{align} \n",
    "\\frac{\\partial J(\\theta)}{\\partial \\theta_j}  &= \n",
    "\\frac{\\partial}{\\partial \\theta_j} \\,\\frac{-1}{m}\\sum_{i=1}^m \n",
    "\\left[ y^{(i)}\\left(\\log(h_\\theta \\left(x^{(i)}\\right)\\right) +\n",
    "(1 -y^{(i)})\\left(\\log(1-h_\\theta \\left(x^{(i)}\\right)\\right)\\right]\\\\[2ex]\n",
    "&\\underset{\\text{linearity}}= \\,\\frac{-1}{m}\\,\\sum_{i=1}^m \n",
    "\\left[ \n",
    "y^{(i)}\\frac{\\partial}{\\partial \\theta_j}\\log\\left(h_\\theta \\left(x^{(i)}\\right)\\right) +\n",
    "(1 -y^{(i)})\\frac{\\partial}{\\partial \\theta_j}\\left(\\log(1-h_\\theta \\left(x^{(i)}\\right)\\right)\n",
    "\\right]\\\\[2ex]\n",
    "&\\underset{\\text{chain rule}}= \\,\\frac{-1}{m}\\,\\sum_{i=1}^m \n",
    "\\left[ \n",
    "y^{(i)}\\frac{\\frac{\\partial}{\\partial \\theta_j}(h_\\theta \\left(x^{(i)}\\right)}{h_\\theta\\left(x^{(i)}\\right)} +\n",
    "(1 -y^{(i)})\\frac{\\frac{\\partial}{\\partial \\theta_j}\\left(1-h_\\theta \\left(x^{(i)}\\right)\\right)}{1-h_\\theta\\left(x^{(i)}\\right)}\n",
    "\\right]\\\\[2ex]\n",
    "&\\underset{h_\\theta(x)=\\sigma\\left(\\theta^\\top x\\right)}=\\,\\frac{-1}{m}\\,\\sum_{i=1}^m \n",
    "\\left[ \n",
    "y^{(i)}\\frac{\\frac{\\partial}{\\partial \\theta_j}\\sigma\\left(\\theta^\\top x^{(i)}\\right)}{h_\\theta\\left(x^{(i)}\\right)} +\n",
    "(1 -y^{(i)})\\frac{\\frac{\\partial}{\\partial \\theta_j}\\left(1-\\sigma\\left(\\theta^\\top x^{(i)}\\right)\\right)}{1-h_\\theta\\left(x^{(i)}\\right)}\n",
    "\\right]\\\\[2ex]\n",
    "&\\underset{\\sigma'}=\\frac{-1}{m}\\,\\sum_{i=1}^m \n",
    "\\left[ y^{(i)}\\,\n",
    "\\frac{\\sigma\\left(\\theta^\\top x^{(i)}\\right)\\left(1-\\sigma\\left(\\theta^\\top x^{(i)}\\right)\\right)\\frac{\\partial}{\\partial \\theta_j}\\left(\\theta^\\top x^{(i)}\\right)}{h_\\theta\\left(x^{(i)}\\right)}\\\\ -\n",
    "(1 -y^{(i)})\\,\\frac{\\sigma\\left(\\theta^\\top x^{(i)}\\right)\\left(1-\\sigma\\left(\\theta^\\top x^{(i)}\\right)\\right)\\frac{\\partial}{\\partial \\theta_j}\\left(\\theta^\\top x^{(i)}\\right)}{1-h_\\theta\\left(x^{(i)}\\right)}\n",
    "\\right]\\\\[2ex]\n",
    "&\\underset{\\sigma\\left(\\theta^\\top x\\right)=h_\\theta(x)}= \\,\\frac{-1}{m}\\,\\sum_{i=1}^m \n",
    "\\left[ \n",
    "y^{(i)}\\frac{h_\\theta\\left( x^{(i)}\\right)\\left(1-h_\\theta\\left( x^{(i)}\\right)\\right)\\frac{\\partial}{\\partial \\theta_j}\\left(\\theta^\\top x^{(i)}\\right)}{h_\\theta\\left(x^{(i)}\\right)} \\\\-\n",
    "(1 -y^{(i)})\\frac{h_\\theta\\left( x^{(i)}\\right)\\left(1-h_\\theta\\left(x^{(i)}\\right)\\right)\\frac{\\partial}{\\partial \\theta_j}\\left( \\theta^\\top x^{(i)}\\right)}{1-h_\\theta\\left(x^{(i)}\\right)}\n",
    "\\right]\\\\[2ex]\n",
    "&\\underset{\\frac{\\partial}{\\partial \\theta_j}\\left(\\theta^\\top x^{(i)}\\right)=x_j^{(i)}}=\\,\\frac{-1}{m}\\,\\sum_{i=1}^m \\left[y^{(i)}\\left(1-h_\\theta\\left(x^{(i)}\\right)\\right)x_j^{(i)}-\n",
    "\\left(1-y^{i}\\right)\\,h_\\theta\\left(x^{(i)}\\right)x_j^{(i)}\n",
    "\\right]\\\\[2ex]\n",
    "&\\underset{\\text{distribute}}=\\,\\frac{-1}{m}\\,\\sum_{i=1}^m \\left[y^{i}-y^{i}h_\\theta\\left(x^{(i)}\\right)-\n",
    "h_\\theta\\left(x^{(i)}\\right)+y^{(i)}h_\\theta\\left(x^{(i)}\\right)\n",
    "\\right]\\,x_j^{(i)}\\\\[2ex]\n",
    "&\\underset{\\text{cancel}}=\\,\\frac{-1}{m}\\,\\sum_{i=1}^m \\left[y^{(i)}-h_\\theta\\left(x^{(i)}\\right)\\right]\\,x_j^{(i)}\\\\[2ex]\n",
    "&=\\frac{1}{m}\\sum_{i=1}^m\\left[h_\\theta\\left(x^{(i)}\\right)-y^{(i)}\\right]\\,x_j^{(i)}\n",
    "\\end{align}"
   ]
  }
 ],
 "metadata": {
  "kernelspec": {
   "display_name": "Python 2",
   "language": "python",
   "name": "python2"
  },
  "language_info": {
   "codemirror_mode": {
    "name": "ipython",
    "version": 2
   },
   "file_extension": ".py",
   "mimetype": "text/x-python",
   "name": "python",
   "nbconvert_exporter": "python",
   "pygments_lexer": "ipython2",
   "version": "2.7.13"
  }
 },
 "nbformat": 4,
 "nbformat_minor": 1
}
