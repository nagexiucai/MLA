{
 "cells": [
  {
   "cell_type": "markdown",
   "metadata": {},
   "source": [
    "# Sigmoid函数推导过程\n",
    "\n",
    "\\begin{align}\\frac{d}{dx}\\sigma(x)&=\\frac{d}{dx}\\left(\\frac{1}{1+e^{-x}}\\right)\\\\[2ex]\n",
    "&=\\frac{-(1+e^{-x})'}{(1+e^{-x})^2}\\\\[2ex]\n",
    "&=\\frac{e^{-x}}{(1+e^{-x})^2}\\\\[2ex]\n",
    "&=\\left(\\frac{1}{1+e^{-x}}\\right)\\left(\\frac{e^{-x}}{1+e^{-x}}\\right)\\\\[2ex]\n",
    "&=\\left(\\frac{1}{1+e^{-x}}\\right)\\,\\left(\\frac{1+e^{-x}}{1+e^{-x}}-\\frac{1}{1+e^{-x}}\\right)\\\\[2ex]\n",
    "&=\\sigma(x)\\,\\left(\\frac{1+e^{-x}}{1+e^{-x}}-\\sigma(x)\\right)\\\\[2ex]\n",
    "&=\\sigma(x)\\,(1-\\sigma(x))\n",
    "\\end{align}"
   ]
  }
 ],
 "metadata": {
  "kernelspec": {
   "display_name": "Python 2",
   "language": "python",
   "name": "python2"
  },
  "language_info": {
   "codemirror_mode": {
    "name": "ipython",
    "version": 2
   },
   "file_extension": ".py",
   "mimetype": "text/x-python",
   "name": "python",
   "nbconvert_exporter": "python",
   "pygments_lexer": "ipython2",
   "version": "2.7.13"
  }
 },
 "nbformat": 4,
 "nbformat_minor": 1
}
